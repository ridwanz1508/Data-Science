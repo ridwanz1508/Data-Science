{
 "cells": [
  {
   "cell_type": "markdown",
   "metadata": {},
   "source": [
    "LATIHAN 1"
   ]
  },
  {
   "cell_type": "code",
   "execution_count": 9,
   "metadata": {},
   "outputs": [
    {
     "name": "stdout",
     "output_type": "stream",
     "text": [
      "Nama    : Muhamad Ridwan\n",
      "Umur    : 21 tahun\n",
      "Saya berasal dari Tangerang\n"
     ]
    }
   ],
   "source": [
    "print (\"Nama    : Muhamad Ridwan\")\n",
    "print (\"Umur    : 21 tahun\")\n",
    "print (\"Saya berasal dari Tangerang\")"
   ]
  },
  {
   "cell_type": "markdown",
   "metadata": {},
   "source": [
    "LATIHAN 2"
   ]
  },
  {
   "cell_type": "code",
   "execution_count": 10,
   "metadata": {},
   "outputs": [
    {
     "name": "stdout",
     "output_type": "stream",
     "text": [
      "Menghitung Luas Segitia\n",
      "-----------------------\n",
      "Nilai a =  2\n",
      "Nilai t =  4\n",
      "Luas Segitiga Pertama =  4.0\n",
      "Nilai a =  3\n",
      "Nilai t =  5\n",
      "Luas Segitiga Pertama =  7.5\n",
      "Nilai a =  3\n",
      "Nilai t =  4\n",
      "Luas Segitiga Pertama =  6.0\n"
     ]
    }
   ],
   "source": [
    "print (\"Menghitung Luas Segitia\")\n",
    "print (\"-----------------------\")\n",
    "a1 = 2\n",
    "t1 = 4\n",
    "L1 = (a1*t1)/2\n",
    "print (\"Nilai a = \" ,a1)\n",
    "print (\"Nilai t = \" ,t1)\n",
    "print(\"Luas Segitiga Pertama = \",L1)\n",
    "\n",
    "a2 = 3\n",
    "t2 = 5\n",
    "L2 = (a2*t2)/2\n",
    "print (\"Nilai a = \" ,a2)\n",
    "print (\"Nilai t = \" ,t2)\n",
    "print(\"Luas Segitiga Pertama = \",L2)\n",
    "\n",
    "a3 = 3\n",
    "t3 = 4\n",
    "L3 = (a3*t3)/2\n",
    "print (\"Nilai a = \" ,a3)\n",
    "print (\"Nilai t = \" ,t3)\n",
    "print(\"Luas Segitiga Pertama = \",L3)"
   ]
  },
  {
   "cell_type": "markdown",
   "metadata": {},
   "source": [
    "LATIHAN 3"
   ]
  },
  {
   "cell_type": "code",
   "execution_count": null,
   "metadata": {},
   "outputs": [],
   "source": [
    "angka = int(input (\"Masukkan angka = \"))\n",
    "hasil = angka%2\n",
    "if (hasil == 0) :\n",
    "    print (\"Ankga tersebut adalah Genap\")\n",
    "else:\n",
    "    print (\"Angka tersebut adalah ganjil\")"
   ]
  },
  {
   "cell_type": "markdown",
   "metadata": {},
   "source": [
    "LATIHAN 4"
   ]
  },
  {
   "cell_type": "code",
   "execution_count": null,
   "metadata": {},
   "outputs": [],
   "source": [
    "angka = 10\n",
    "while (angka >= 1):\n",
    "    print(\"Angka Ke-: \", angka)\n",
    "    angka -= 1\n",
    "\n",
    "print (\"Good bye!\")"
   ]
  },
  {
   "cell_type": "markdown",
   "metadata": {},
   "source": [
    "LATIHAN 5"
   ]
  },
  {
   "cell_type": "code",
   "execution_count": null,
   "metadata": {},
   "outputs": [],
   "source": [
    "suhu_reamur = [20, 16, 15, 12]\n",
    "celcius = 5/4∗suhu_reamur\n",
    "print (\"Nilai Suhu = \", celcius[0:4])"
   ]
  },
  {
   "cell_type": "markdown",
   "metadata": {},
   "source": [
    "LAATIHAN 6"
   ]
  },
  {
   "cell_type": "code",
   "execution_count": null,
   "metadata": {},
   "outputs": [],
   "source": [
    "a = 'ridwan'\n",
    "print(a, 'ridwan', a.capitalize())\n",
    "print()"
   ]
  },
  {
   "cell_type": "markdown",
   "metadata": {},
   "source": [
    "LATIHAN 7"
   ]
  },
  {
   "cell_type": "code",
   "execution_count": null,
   "metadata": {},
   "outputs": [],
   "source": [
    "y = [1.2, 5, 8.7, 10, 15]\n",
    "x = [1, 4.5, 9.2, 9, 14]\n",
    "mae=x[0:5]-y[0:5]\n",
    "print(mae)"
   ]
  },
  {
   "cell_type": "markdown",
   "metadata": {},
   "source": [
    "LATIHAN 8"
   ]
  },
  {
   "cell_type": "code",
   "execution_count": null,
   "metadata": {},
   "outputs": [],
   "source": [
    "dict = {'a': 100, 'b': 200, 'c': 300}\n",
    "print (\"dict: \", dict['b'])"
   ]
  },
  {
   "cell_type": "markdown",
   "metadata": {},
   "source": [
    "LATIHAN 9"
   ]
  },
  {
   "cell_type": "code",
   "execution_count": null,
   "metadata": {},
   "outputs": [],
   "source": [
    "x = 2\n",
    "hasil = (x**2) + (3*x) - 5\n",
    "print (f'Hasil = {hasil}')\n",
    "\n",
    "x = 3\n",
    "hasil1 = (x**2) + (3*x) - 5\n",
    "print (f'Hasil1 = {hasil1}')\n",
    "\n",
    "x = 5\n",
    "hasil2 = (x**2) + (3*x) - 5\n",
    "print (f'Hasil2 = {hasil2}')"
   ]
  },
  {
   "cell_type": "markdown",
   "metadata": {},
   "source": [
    "LATIHAN 10"
   ]
  },
  {
   "cell_type": "code",
   "execution_count": null,
   "metadata": {},
   "outputs": [],
   "source": [
    "p1 = 5\n",
    "l1 = 2\n",
    "a1 = 3\n",
    "t1 = 6\n",
    "L1 = (p1*l1) + ((a1*t1)/2)\n",
    "print (\"Luas Gabungan 1 = \",L1)\n",
    "p2 = 5\n",
    "l2 = 3\n",
    "a2 = 4\n",
    "t2 = 8\n",
    "L2 = (p2*l2) + ((a2*t2)/2)\n",
    "print (\"Luas Gabungan 2 = \",L2)\n",
    "p3 = 6\n",
    "l3 = 3\n",
    "a3 = 2\n",
    "t3 = 5\n",
    "L3 = (p3*l3) + ((a3*t3)/2)\n",
    "print (\"Luas Gabungan 3 = \",L3)\n",
    "p4 = 8\n",
    "l4 = 5\n",
    "a4 = 2\n",
    "t4 = 4\n",
    "L4 = (p4*l4) + ((a4*t4)/2)\n",
    "print (\"Luas Gabungan 4 = \",L4)\n",
    "p5 = 10\n",
    "l5 = 4\n",
    "a5 = 3\n",
    "t5 = 5\n",
    "L5 = (p5*l5) + ((a5*t5)/2)\n",
    "print (\"Luas Gabungan 5 = \",L5)"
   ]
  }
 ],
 "metadata": {
  "interpreter": {
   "hash": "a12d694c3ccac42055183a0ad11e659c6a2db5c6555ad2c8919d5814fd4e404f"
  },
  "kernelspec": {
   "display_name": "Python 3.9.10 64-bit",
   "language": "python",
   "name": "python3"
  },
  "language_info": {
   "codemirror_mode": {
    "name": "ipython",
    "version": 3
   },
   "file_extension": ".py",
   "mimetype": "text/x-python",
   "name": "python",
   "nbconvert_exporter": "python",
   "pygments_lexer": "ipython3",
   "version": "3.9.10"
  },
  "orig_nbformat": 4
 },
 "nbformat": 4,
 "nbformat_minor": 2
}
